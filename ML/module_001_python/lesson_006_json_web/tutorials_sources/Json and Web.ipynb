{
 "cells": [
  {
   "cell_type": "markdown",
   "metadata": {},
   "source": [
    "# 1 - JSON формат данных\n",
    "**JavaScript Object Notation (JSON)**\n",
    "\n",
    "`{\n",
    "  \"squadName\": \"Super hero squad\",\n",
    "  \"homeTown\": \"Metro City\",\n",
    "  \"formed\": 2016,\n",
    "  \"secretBase\": \"Super tower\",\n",
    "  \"active\": true,\n",
    "  \"members\": [\n",
    "    {\n",
    "      \"name\": \"Molecule Man\",\n",
    "      \"age\": 29,\n",
    "      \"secretIdentity\": \"Dan Jukes\",\n",
    "      \"powers\": [\n",
    "        \"Radiation resistance\",\n",
    "        \"Turning tiny\",\n",
    "        \"Radiation blast\"\n",
    "      ]\n",
    "    },\n",
    "    {\n",
    "      \"name\": \"Madame Uppercut\",\n",
    "      \"age\": 39,\n",
    "      \"secretIdentity\": \"Jane Wilson\",\n",
    "      \"powers\": [\n",
    "        \"Million tonne punch\",\n",
    "        \"Damage resistance\",\n",
    "        \"Superhuman reflexes\"\n",
    "      ]\n",
    "    },\n",
    "    {\n",
    "      \"name\": \"Eternal Flame\",\n",
    "      \"age\": 1000000,\n",
    "      \"secretIdentity\": \"Unknown\",\n",
    "      \"powers\": [\n",
    "        \"Immortality\",\n",
    "        \"Heat Immunity\",\n",
    "        \"Inferno\",\n",
    "        \"Teleportation\",\n",
    "        \"Interdimensional travel\"\n",
    "      ]\n",
    "    }\n",
    "  ]\n",
    "}`"
   ]
  },
  {
   "cell_type": "code",
   "execution_count": 28,
   "metadata": {},
   "outputs": [],
   "source": [
    "squad_str = ''\n",
    "with open('example.json', 'r') as f:\n",
    "    squad_str = f.read()"
   ]
  },
  {
   "cell_type": "code",
   "execution_count": 26,
   "metadata": {},
   "outputs": [],
   "source": [
    "import json\n",
    "\n",
    "squad_json = json.loads(squad_str)"
   ]
  },
  {
   "cell_type": "markdown",
   "metadata": {},
   "source": [
    "| JSON          | Python |\n",
    "|---------------|--------|\n",
    "| object        | dict   |\n",
    "| array         | list   |\n",
    "| string        | str    |\n",
    "| number(int)   | int    |\n",
    "| number(float) | float  |\n",
    "| true          | True   |\n",
    "| false         | False  |\n",
    "| null          | None   |"
   ]
  },
  {
   "cell_type": "code",
   "execution_count": 27,
   "metadata": {},
   "outputs": [
    {
     "name": "stdout",
     "output_type": "stream",
     "text": [
      "Super hero squad\n",
      "Molecule Man\n",
      "Madame Uppercut\n",
      "Eternal Flame\n"
     ]
    }
   ],
   "source": [
    "print(squad_json['squadName'])\n",
    "\n",
    "for member in squad_json['members']:\n",
    "    print(member['name'])"
   ]
  },
  {
   "cell_type": "code",
   "execution_count": 17,
   "metadata": {},
   "outputs": [
    {
     "name": "stdout",
     "output_type": "stream",
     "text": [
      "{\n",
      "  \"squadName\": \"Super hero squad\",\n",
      "  \"homeTown\": \"Metro City\",\n",
      "  \"formed\": 2016,\n",
      "  \"secretBase\": \"Super tower\",\n",
      "  \"active\": true,\n",
      "  \"members\": [\n",
      "    {\n",
      "      \"name\": \"Molecule Man\",\n",
      "      \"age\": 29,\n",
      "      \"powers\": [\n",
      "        \"Radiation resistance\",\n",
      "        \"Turning tiny\",\n",
      "        \"Radiation blast\"\n",
      "      ]\n",
      "    },\n",
      "    {\n",
      "      \"name\": \"Madame Uppercut\",\n",
      "      \"age\": 39,\n",
      "      \"powers\": [\n",
      "        \"Million tonne punch\",\n",
      "        \"Damage resistance\",\n",
      "        \"Superhuman reflexes\"\n",
      "      ]\n",
      "    },\n",
      "    {\n",
      "      \"name\": \"Eternal Flame\",\n",
      "      \"age\": 1000000,\n",
      "      \"powers\": [\n",
      "        \"Immortality\",\n",
      "        \"Heat Immunity\",\n",
      "        \"Inferno\",\n",
      "        \"Teleportation\",\n",
      "        \"Interdimensional travel\"\n",
      "      ]\n",
      "    }\n",
      "  ]\n",
      "}\n"
     ]
    }
   ],
   "source": [
    "for member in squad_json['members']:\n",
    "    del member['secretIdentity']\n",
    "    \n",
    "print(json.dumps(squad_json, indent=2))\n",
    "\n",
    "with open('modified_example', 'w') as f:\n",
    "    json.dump(squad_json, f, indent=2)"
   ]
  },
  {
   "cell_type": "markdown",
   "metadata": {},
   "source": [
    "# Http requests\n",
    "Получение информации из сети по http протоколу.\n",
    "\n",
    "Зачастую информация по http приходит в виде web-страниц - html, разбор html не очень удобный вариант, поэтому многие сервисы предлагают HTTP API, которая может возвращать информацию в виде json формата \n",
    "\n",
    "https://2.python-requests.org//en/master/\n",
    "\n",
    "![request](get-request-method.jpg \"Http request\")"
   ]
  },
  {
   "cell_type": "code",
   "execution_count": 1,
   "metadata": {},
   "outputs": [],
   "source": [
    "secret_api_key = \"\"\n",
    "with open('secret-key.txt', 'r') as f:\n",
    "    secret_api_key = f.read()"
   ]
  },
  {
   "cell_type": "code",
   "execution_count": 2,
   "metadata": {},
   "outputs": [],
   "source": [
    "import requests"
   ]
  },
  {
   "cell_type": "code",
   "execution_count": 29,
   "metadata": {},
   "outputs": [
    {
     "name": "stdout",
     "output_type": "stream",
     "text": [
      "https://min-api.cryptocompare.com/data/price?fsym=BTC&tsyms=USD%2CRUB%2CEUR&api_key=7c2b7163395cd0ee350e59a9098190094f9771f3d78dee9075a6672a9a796528\n",
      "Status: 200\n",
      "---------------\n",
      "Headers: {'Server': 'nginx/1.10.3', 'Date': 'Sat, 27 Apr 2019 08:54:44 GMT', 'Content-Type': 'application/json; charset=UTF-8', 'Transfer-Encoding': 'chunked', 'Connection': 'keep-alive', 'Vary': 'Accept-Encoding', 'Content-Security-Policy': \"frame-ancestors 'none'\", 'Access-Control-Allow-Origin': '*', 'Access-Control-Allow-Methods': 'GET, POST, OPTIONS', 'Access-Control-Allow-Headers': 'Content-Type, Cookie, Set-Cookie, Authorization', 'Access-Control-Allow-Credentials': 'true', 'Cache-Control': 'public, max-age=10', 'CryptoCompare-Cache-HIT': 'false', 'Content-Encoding': 'gzip'}\n",
      "---------------\n",
      "Response:  {\"USD\":5220.64,\"RUB\":346420.62,\"EUR\":4666.86}\n",
      "---------------\n",
      "Json 346420.62\n"
     ]
    }
   ],
   "source": [
    "payload = {\n",
    "    \"fsym\":\"BTC\", \n",
    "    \"tsyms\": \"USD,RUB,EUR\", \n",
    "    \"api_key\": secret_api_key\n",
    "}\n",
    "r = requests.get('https://min-api.cryptocompare.com/data/price', params=payload)\n",
    "print(r.url)\n",
    "print('Status:', r.status_code)\n",
    "print('---------------')\n",
    "print('Headers:', r.headers)\n",
    "print('---------------')\n",
    "print('Response: ', r.text)\n",
    "print('---------------')\n",
    "print('Json', r.json()['RUB'])"
   ]
  },
  {
   "cell_type": "code",
   "execution_count": 11,
   "metadata": {},
   "outputs": [],
   "source": [
    "# save image\n",
    "r = requests.get('https://animevost.org/uploads/posts/2014-02/1391878089_temnee_chernogo.jpg')\n",
    "with open('image.jpg', 'wb') as f:\n",
    "    f.write(r.content)"
   ]
  }
 ],
 "metadata": {
  "kernelspec": {
   "display_name": "Python 3",
   "language": "python",
   "name": "python3"
  },
  "language_info": {
   "codemirror_mode": {
    "name": "ipython",
    "version": 3
   },
   "file_extension": ".py",
   "mimetype": "text/x-python",
   "name": "python",
   "nbconvert_exporter": "python",
   "pygments_lexer": "ipython3",
   "version": "3.7.1"
  }
 },
 "nbformat": 4,
 "nbformat_minor": 2
}
