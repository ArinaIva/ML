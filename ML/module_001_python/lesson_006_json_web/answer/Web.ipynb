{
 "cells": [
  {
   "cell_type": "markdown",
   "metadata": {},
   "source": [
    "Используя тестовый сервер предоставляющий REST-API: https://jsonplaceholder.typicode.com/, выполнить следующие действия\n",
    "\n",
    "* Найти id пользователя с именим **Nicholas Runolfsdottir V**\n",
    "* Загрузить все посты данного пользователя\n",
    "* Выбрать случайный пост и загрузить все комментарии поста"
   ]
  },
  {
   "cell_type": "code",
   "execution_count": 17,
   "metadata": {},
   "outputs": [],
   "source": [
    "import requests\n",
    "\n",
    "def load_all_users():\n",
    "    user_req = requests.get('https://jsonplaceholder.typicode.com/users')\n",
    "    return user_req.json()\n",
    "\n",
    "def find_user_by_name(users_json, name):\n",
    "    for user in users_json:\n",
    "        if (user['name'] == name):\n",
    "            return user\n",
    "    return None\n",
    "\n",
    "def get_user_posts(user_id):\n",
    "    payload = {'userId': user_id}\n",
    "    posts_req = requests.get('https://jsonplaceholder.typicode.com/posts', payload)\n",
    "    return posts_req.json()\n",
    "\n",
    "def get_post_comments(post_id):\n",
    "    payload = {'postId': post_id}\n",
    "    comments_req = requests.get('https://jsonplaceholder.typicode.com/comments', payload)\n",
    "    return comments_req.json()"
   ]
  },
  {
   "cell_type": "code",
   "execution_count": 18,
   "metadata": {},
   "outputs": [
    {
     "name": "stdout",
     "output_type": "stream",
     "text": [
      "[\n",
      "  {\n",
      "    \"postId\": 71,\n",
      "    \"id\": 351,\n",
      "    \"name\": \"quia ex perspiciatis sunt voluptatem quidem\",\n",
      "    \"email\": \"Solon.Goldner@judah.org\",\n",
      "    \"body\": \"quo nisi impedit velit repellendus esse itaque ut saepe\\nvoluptatibus occaecati ab eaque dolores\\nmaxime alias velit ducimus placeat sit laudantium quia\\ncorrupti doloremque ut\"\n",
      "  },\n",
      "  {\n",
      "    \"postId\": 71,\n",
      "    \"id\": 352,\n",
      "    \"name\": \"sit ipsam voluptatem velit\",\n",
      "    \"email\": \"Nina@osbaldo.name\",\n",
      "    \"body\": \"dolorem eius voluptatem vitae aliquid unde labore est\\nmolestiae labore dolorem beatae voluptatem soluta eum eos dolore\\net ea quasi aut doloribus sint\\nvel suscipit tempora delectus soluta\"\n",
      "  },\n",
      "  {\n",
      "    \"postId\": 71,\n",
      "    \"id\": 353,\n",
      "    \"name\": \"consequatur reprehenderit similique vitae dolor debitis\",\n",
      "    \"email\": \"Madaline@marlin.org\",\n",
      "    \"body\": \"nemo aut laborum expedita nisi sed illum\\nab asperiores provident\\na sunt recusandae ut rerum itaque est voluptatibus nihil\\nesse ipsum et repellendus nobis rerum voluptas et\"\n",
      "  },\n",
      "  {\n",
      "    \"postId\": 71,\n",
      "    \"id\": 354,\n",
      "    \"name\": \"eligendi tempora eum deserunt\",\n",
      "    \"email\": \"Mike.Kozey@gladyce.us\",\n",
      "    \"body\": \"delectus est consequatur\\nat excepturi asperiores dolor nesciunt ad\\nid non aut ad ut\\nnon et voluptatem\"\n",
      "  },\n",
      "  {\n",
      "    \"postId\": 71,\n",
      "    \"id\": 355,\n",
      "    \"name\": \"reiciendis ad ea\",\n",
      "    \"email\": \"Orval.Treutel@arnold.me\",\n",
      "    \"body\": \"vel cumque labore vitae quisquam magnam sequi ut\\nmolestiae dolores vel minus aut\\nquas repellat nostrum fugit molestiae veritatis sequi\\nvel quidem in molestiae id doloribus sed\"\n",
      "  }\n",
      "]\n"
     ]
    }
   ],
   "source": [
    "import json\n",
    "users_json = load_all_users()\n",
    "nic = find_user_by_name(users_json, 'Nicholas Runolfsdottir V')\n",
    "if nic is not None:\n",
    "    first_post = get_user_posts(nic['id'])[0]\n",
    "    print(json.dumps(get_post_comments(first_post['id']), indent=2))"
   ]
  },
  {
   "cell_type": "code",
   "execution_count": null,
   "metadata": {},
   "outputs": [],
   "source": []
  }
 ],
 "metadata": {
  "kernelspec": {
   "display_name": "Python 3",
   "language": "python",
   "name": "python3"
  },
  "language_info": {
   "codemirror_mode": {
    "name": "ipython",
    "version": 3
   },
   "file_extension": ".py",
   "mimetype": "text/x-python",
   "name": "python",
   "nbconvert_exporter": "python",
   "pygments_lexer": "ipython3",
   "version": "3.7.1"
  }
 },
 "nbformat": 4,
 "nbformat_minor": 2
}
