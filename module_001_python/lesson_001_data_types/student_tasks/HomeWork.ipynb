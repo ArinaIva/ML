{
 "cells": [
  {
   "cell_type": "markdown",
   "metadata": {},
   "source": [
    "# Задача 1\n",
    "\n",
    "Дан текст, выполнить с ним следующие операции:\n",
    "* Вывести длину текста\n",
    "* Заменить буквы 'о' на буквы 'а'\n",
    "* Удалить слова 'не' и 'ни'"
   ]
  },
  {
   "cell_type": "code",
   "execution_count": 2,
   "metadata": {},
   "outputs": [],
   "source": [
    "quote = \"\"\"\n",
    "Будучи вне дома, держите себя так, словно принимаете почетных гостей.\n",
    "Пользуясь услугами людей, ведите себя так, словно свершаете торжественный обряд.\n",
    "Не делайте другим того, чего себе не пожелаете.\n",
    "Тогда ни в государстве, ни в семье не будет недовольства.\n",
    "\"\"\""
   ]
  },
  {
   "cell_type": "code",
   "execution_count": 16,
   "metadata": {},
   "outputs": [
    {
     "name": "stdout",
     "output_type": "stream",
     "text": [
      "Length 258\n",
      "\n",
      "Будучи вне дама, держите себя так, славна принимаете пачетных гастей.\n",
      "Пальзуясь услугами людей, ведите себя так, славна свершаете таржественный абряд.\n",
      "Не делайте другим тага, чега себе не пажелаете.\n",
      "Тагда ни в гасударстве, ни в семье не будет недавальства.\n",
      "\n",
      "\n",
      "Будучи вне дама, держите себя так, славна принимаете пачетных гастей.\n",
      "Пальзуясь услугами людей, ведите себя так, славна свершаете таржественный абряд.\n",
      "делайте другим тага, чега себе пажелаете.\n",
      "Тагда в гасударстве, в семье будет недавальства.\n",
      "\n"
     ]
    }
   ],
   "source": [
    "# Пишите свой код\n",
    "quote = \"\"\"\n",
    "Будучи вне дома, держите себя так, словно принимаете почетных гостей.\n",
    "Пользуясь услугами людей, ведите себя так, словно свершаете торжественный обряд.\n",
    "Не делайте другим того, чего себе не пожелаете.\n",
    "Тогда ни в государстве, ни в семье не будет недовольства.\n",
    "\"\"\"\n",
    "print('Length', len(quote))\n",
    "quote=quote.replace('о','а')\n",
    "print(quote)\n",
    "quote=quote.replace(' не ',' ')\n",
    "quote=quote.replace(' ни ',' ')\n",
    "quote=quote.replace('Не ','')\n",
    "quote=quote.replace('Ни ','')\n",
    "print(quote)\n"
   ]
  },
  {
   "cell_type": "markdown",
   "metadata": {},
   "source": [
    "# Задача 2\n",
    "\n",
    "Сложные проценты - https://ru.onlinemschool.com/math/library/percent/percent10/\n",
    "\n",
    "Пользователь желает положить деньги под проценты на определенный срок. Банк каждый год начисляет 8% годовых. Вычислить полученную сумму в конце срока.\n",
    "\n",
    "Доп. задача, распишите прибыль за каждый год. (можно использовать циклы если знаете, но можно и без)\n",
    "\n",
    "Онлайн калькулятор, для проверки ответов: https://wpcalc.com/slozhnyj-procent/"
   ]
  },
  {
   "cell_type": "code",
   "execution_count": 4,
   "metadata": {},
   "outputs": [],
   "source": [
    "# сумма пользователя в рублях, которую он положит в банк\n",
    "source_amt = 412500\n",
    "\n",
    "# годовой процент\n",
    "annual_interest = 8\n",
    "\n",
    "# срок в 5 лет\n",
    "time = 5\n",
    "\n",
    "# в эту переменную нужно записать ответ\n",
    "result = -1"
   ]
  },
  {
   "cell_type": "code",
   "execution_count": 151,
   "metadata": {},
   "outputs": [
    {
     "name": "stdout",
     "output_type": "stream",
     "text": [
      "1 year(s) later your profit =  33000.0\n",
      "2 year(s) later your profit =  68640.0\n",
      "3 year(s) later your profit =  107131.2\n",
      "4 year(s) later your profit =  148701.696\n",
      "5 year(s) later your profit =  193597.832\n",
      "5 year(s) later you will get =  606097.832\n"
     ]
    }
   ],
   "source": [
    "# Пишите свой код\n",
    "x = 412500\n",
    "p = 8\n",
    "t = 5\n",
    "i=1\n",
    "result=0\n",
    "while i<=t:\n",
    "     \n",
    "    result=x*(1+p/100)**i-x\n",
    "    print(i, 'year(s) later your profit = ', round(result,3))\n",
    "    i+=1\n",
    "\n",
    "i=5    \n",
    "result=x*(1+p/100)**i\n",
    "print(i, 'year(s) later you will get = ', round(result,3))\n",
    "    \n"
   ]
  },
  {
   "cell_type": "code",
   "execution_count": null,
   "metadata": {},
   "outputs": [],
   "source": []
  }
 ],
 "metadata": {
  "kernelspec": {
   "display_name": "Python 3",
   "language": "python",
   "name": "python3"
  },
  "language_info": {
   "codemirror_mode": {
    "name": "ipython",
    "version": 3
   },
   "file_extension": ".py",
   "mimetype": "text/x-python",
   "name": "python",
   "nbconvert_exporter": "python",
   "pygments_lexer": "ipython3",
   "version": "3.7.3"
  }
 },
 "nbformat": 4,
 "nbformat_minor": 2
}
