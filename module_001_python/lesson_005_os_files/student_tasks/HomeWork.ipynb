{
 "cells": [
  {
   "cell_type": "markdown",
   "metadata": {},
   "source": [
    "# Задача 1\n",
    "* Копирование файла, в текущей папке есть изображение img1.jpg, нужно скопировать это изображение и назвать img2.jpg\n",
    "\n",
    "Режимы открытия файла, можно прочитать здесь: https://www.w3schools.com/python/ref_func_open.asp"
   ]
  },
  {
   "cell_type": "code",
   "execution_count": 10,
   "metadata": {},
   "outputs": [
    {
     "name": "stdout",
     "output_type": "stream",
     "text": [
      "D:\\SummerProject\\ML\\module_001_python\\lesson_005_os_files\\student_tasks\n"
     ]
    },
    {
     "data": {
      "text/plain": [
       "'img2.jpg'"
      ]
     },
     "execution_count": 10,
     "metadata": {},
     "output_type": "execute_result"
    }
   ],
   "source": [
    "# ваш код\n",
    "\n",
    "import os\n",
    "import shutil\n",
    "\n",
    "os.chdir('..\\\\student_tasks')\n",
    "print(os.getcwd()) \n",
    "\n",
    "shutil.copyfile('img1.jpg', 'img2.jpg')\n",
    "\n"
   ]
  },
  {
   "cell_type": "markdown",
   "metadata": {},
   "source": [
    "# Задача 2\n",
    "* В текущей директории лежит файл addresses.csv, прочитайте этот файл, выведите информацию о том сколько в нем записей(строк) и сколько признаков(колонок), добавьте каждой записи новую колонку country и запишите информацию в новый файл addresses2.csv\n",
    "\n",
    "Информация о writer - https://docs.python.org/3/library/csv.html"
   ]
  },
  {
   "cell_type": "code",
   "execution_count": 73,
   "metadata": {},
   "outputs": [
    {
     "name": "stdout",
     "output_type": "stream",
     "text": [
      "John,Doe,120 jefferson st.,Riverside, NJ, 08075\n",
      "Jack,McGinnis,220 hobo Av.,Phila, PA,09119\n",
      "\"John \"\"Da Man\"\"\",Repici,120 Jefferson St.,Riverside, NJ,08075\n",
      "Stephen,Tyler,\"7452 Terrace \"\"At the Plaza\"\" road\",SomeTown,SD, 91234\n",
      ",Blankman,,SomeTown, SD, 00298\n",
      "\"Joan \"\"the bone\"\", Anne\",Jet,\"9th, at Terrace plc\",Desert City,CO,00123\n",
      "6\n",
      "6\n"
     ]
    },
    {
     "data": {
      "text/plain": [
       "'addresses2.csv'"
      ]
     },
     "execution_count": 73,
     "metadata": {},
     "output_type": "execute_result"
    }
   ],
   "source": [
    "# ваш код\n",
    "\n",
    "os.chdir('..\\\\student_tasks')\n",
    "\n",
    "with open('addresses.csv', 'r') as f:\n",
    "    print(f.read())\n",
    "\n",
    "import csv\n",
    "\n",
    "with open('addresses.csv', 'r') as f:\n",
    "    csv_reader = csv.reader(f,delimiter=',')\n",
    "    for index, line in enumerate(csv_reader):\n",
    "        if index == 0:\n",
    "            print(len(line))\n",
    "    print(len(line))\n",
    "\n",
    "\n",
    "\n",
    "shutil.copyfile('addresses.csv', 'addresses2.csv')        \n",
    "        "
   ]
  },
  {
   "cell_type": "code",
   "execution_count": null,
   "metadata": {},
   "outputs": [],
   "source": []
  }
 ],
 "metadata": {
  "kernelspec": {
   "display_name": "Python 3",
   "language": "python",
   "name": "python3"
  },
  "language_info": {
   "codemirror_mode": {
    "name": "ipython",
    "version": 3
   },
   "file_extension": ".py",
   "mimetype": "text/x-python",
   "name": "python",
   "nbconvert_exporter": "python",
   "pygments_lexer": "ipython3",
   "version": "3.7.3"
  }
 },
 "nbformat": 4,
 "nbformat_minor": 2
}
